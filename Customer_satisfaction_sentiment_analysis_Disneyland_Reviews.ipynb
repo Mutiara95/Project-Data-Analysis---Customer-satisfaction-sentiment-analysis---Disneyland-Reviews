{
  "cells": [
    {
      "cell_type": "markdown",
      "metadata": {
        "id": "3hUmis7astY-"
      },
      "source": [
        "# Assignment Customer Satisfaction and Sentiment Analysis\n"
      ]
    },
    {
      "cell_type": "markdown",
      "metadata": {
        "id": "ahQyKmVBw43f"
      },
      "source": [
        "## Objective\n",
        "\n",
        "You are a data analyst of a consulting company that provides customer insight regarding multiple ticketing system, such as JIRA and Zoho Desk. Your team gather surveys to customers regarding their ticketing system's performance. Your role in the team is to gather reports regarding customer satisfaction and sentiment analysis into a single dashboard and present your insight.\n",
        "\n",
        "Analyze the following metrics and other insight you can find in the dataset:\n",
        "\n",
        "- Survey response rate\n",
        "- Customer Satisfaction score (CSAT)\n",
        "- Customer Effort Score (CES)\n",
        "- Net Promoter Score (NPS)\n",
        "- Sentiment Analysis\n"
      ]
    },
    {
      "cell_type": "markdown",
      "metadata": {
        "id": "Iat2oAhAv3bk"
      },
      "source": [
        "\n",
        "## Data Preparation"
      ]
    },
    {
      "cell_type": "code",
      "execution_count": null,
      "metadata": {
        "id": "LOWYnwcmso5l"
      },
      "outputs": [],
      "source": [
        "import numpy as np\n",
        "import pandas as pd\n",
        "import os\n",
        "\n",
        "pd.options.display.max_columns = 999\n",
        "pd.options.display.float_format = \"{:.2f}\".format"
      ]
    },
    {
      "cell_type": "markdown",
      "metadata": {
        "id": "9Ed8jJJJAf_D"
      },
      "source": [
        "### Access to Local\n",
        "\n",
        "Write where you put the data in your local."
      ]
    },
    {
      "cell_type": "code",
      "execution_count": null,
      "metadata": {
        "id": "H5Yin-VjBLN1"
      },
      "outputs": [],
      "source": [
        "data=pd.read_csv('/content/DisneylandReviews.csv',encoding='latin1')"
      ]
    },
    {
      "cell_type": "markdown",
      "metadata": {
        "id": "hzTVWDEZtAlk"
      },
      "source": [
        "### Read Data\n",
        "\n",
        "Read the file **DisneylandReviews.csv**"
      ]
    },
    {
      "cell_type": "code",
      "execution_count": null,
      "metadata": {
        "colab": {
          "base_uri": "https://localhost:8080/",
          "height": 206
        },
        "id": "_vthpIWptEOj",
        "outputId": "58d371f3-59ba-40f5-d2df-fd91976fc0fd"
      },
      "outputs": [
        {
          "output_type": "execute_result",
          "data": {
            "text/plain": [
              "   Review_ID  Rating Year_Month     Reviewer_Location  \\\n",
              "0  670772142       4     2019-4             Australia   \n",
              "1  670682799       4     2019-5           Philippines   \n",
              "2  670623270       4     2019-4  United Arab Emirates   \n",
              "3  670607911       4     2019-4             Australia   \n",
              "4  670607296       4     2019-4        United Kingdom   \n",
              "\n",
              "                                         Review_Text               Branch  \n",
              "0  If you've ever been to Disneyland anywhere you...  Disneyland_HongKong  \n",
              "1  Its been a while since d last time we visit HK...  Disneyland_HongKong  \n",
              "2  Thanks God it wasn   t too hot or too humid wh...  Disneyland_HongKong  \n",
              "3  HK Disneyland is a great compact park. Unfortu...  Disneyland_HongKong  \n",
              "4  the location is not in the city, took around 1...  Disneyland_HongKong  "
            ],
            "text/html": [
              "\n",
              "  <div id=\"df-f453c484-54f2-482d-82d0-18700a0b242c\" class=\"colab-df-container\">\n",
              "    <div>\n",
              "<style scoped>\n",
              "    .dataframe tbody tr th:only-of-type {\n",
              "        vertical-align: middle;\n",
              "    }\n",
              "\n",
              "    .dataframe tbody tr th {\n",
              "        vertical-align: top;\n",
              "    }\n",
              "\n",
              "    .dataframe thead th {\n",
              "        text-align: right;\n",
              "    }\n",
              "</style>\n",
              "<table border=\"1\" class=\"dataframe\">\n",
              "  <thead>\n",
              "    <tr style=\"text-align: right;\">\n",
              "      <th></th>\n",
              "      <th>Review_ID</th>\n",
              "      <th>Rating</th>\n",
              "      <th>Year_Month</th>\n",
              "      <th>Reviewer_Location</th>\n",
              "      <th>Review_Text</th>\n",
              "      <th>Branch</th>\n",
              "    </tr>\n",
              "  </thead>\n",
              "  <tbody>\n",
              "    <tr>\n",
              "      <th>0</th>\n",
              "      <td>670772142</td>\n",
              "      <td>4</td>\n",
              "      <td>2019-4</td>\n",
              "      <td>Australia</td>\n",
              "      <td>If you've ever been to Disneyland anywhere you...</td>\n",
              "      <td>Disneyland_HongKong</td>\n",
              "    </tr>\n",
              "    <tr>\n",
              "      <th>1</th>\n",
              "      <td>670682799</td>\n",
              "      <td>4</td>\n",
              "      <td>2019-5</td>\n",
              "      <td>Philippines</td>\n",
              "      <td>Its been a while since d last time we visit HK...</td>\n",
              "      <td>Disneyland_HongKong</td>\n",
              "    </tr>\n",
              "    <tr>\n",
              "      <th>2</th>\n",
              "      <td>670623270</td>\n",
              "      <td>4</td>\n",
              "      <td>2019-4</td>\n",
              "      <td>United Arab Emirates</td>\n",
              "      <td>Thanks God it wasn   t too hot or too humid wh...</td>\n",
              "      <td>Disneyland_HongKong</td>\n",
              "    </tr>\n",
              "    <tr>\n",
              "      <th>3</th>\n",
              "      <td>670607911</td>\n",
              "      <td>4</td>\n",
              "      <td>2019-4</td>\n",
              "      <td>Australia</td>\n",
              "      <td>HK Disneyland is a great compact park. Unfortu...</td>\n",
              "      <td>Disneyland_HongKong</td>\n",
              "    </tr>\n",
              "    <tr>\n",
              "      <th>4</th>\n",
              "      <td>670607296</td>\n",
              "      <td>4</td>\n",
              "      <td>2019-4</td>\n",
              "      <td>United Kingdom</td>\n",
              "      <td>the location is not in the city, took around 1...</td>\n",
              "      <td>Disneyland_HongKong</td>\n",
              "    </tr>\n",
              "  </tbody>\n",
              "</table>\n",
              "</div>\n",
              "    <div class=\"colab-df-buttons\">\n",
              "\n",
              "  <div class=\"colab-df-container\">\n",
              "    <button class=\"colab-df-convert\" onclick=\"convertToInteractive('df-f453c484-54f2-482d-82d0-18700a0b242c')\"\n",
              "            title=\"Convert this dataframe to an interactive table.\"\n",
              "            style=\"display:none;\">\n",
              "\n",
              "  <svg xmlns=\"http://www.w3.org/2000/svg\" height=\"24px\" viewBox=\"0 -960 960 960\">\n",
              "    <path d=\"M120-120v-720h720v720H120Zm60-500h600v-160H180v160Zm220 220h160v-160H400v160Zm0 220h160v-160H400v160ZM180-400h160v-160H180v160Zm440 0h160v-160H620v160ZM180-180h160v-160H180v160Zm440 0h160v-160H620v160Z\"/>\n",
              "  </svg>\n",
              "    </button>\n",
              "\n",
              "  <style>\n",
              "    .colab-df-container {\n",
              "      display:flex;\n",
              "      gap: 12px;\n",
              "    }\n",
              "\n",
              "    .colab-df-convert {\n",
              "      background-color: #E8F0FE;\n",
              "      border: none;\n",
              "      border-radius: 50%;\n",
              "      cursor: pointer;\n",
              "      display: none;\n",
              "      fill: #1967D2;\n",
              "      height: 32px;\n",
              "      padding: 0 0 0 0;\n",
              "      width: 32px;\n",
              "    }\n",
              "\n",
              "    .colab-df-convert:hover {\n",
              "      background-color: #E2EBFA;\n",
              "      box-shadow: 0px 1px 2px rgba(60, 64, 67, 0.3), 0px 1px 3px 1px rgba(60, 64, 67, 0.15);\n",
              "      fill: #174EA6;\n",
              "    }\n",
              "\n",
              "    .colab-df-buttons div {\n",
              "      margin-bottom: 4px;\n",
              "    }\n",
              "\n",
              "    [theme=dark] .colab-df-convert {\n",
              "      background-color: #3B4455;\n",
              "      fill: #D2E3FC;\n",
              "    }\n",
              "\n",
              "    [theme=dark] .colab-df-convert:hover {\n",
              "      background-color: #434B5C;\n",
              "      box-shadow: 0px 1px 3px 1px rgba(0, 0, 0, 0.15);\n",
              "      filter: drop-shadow(0px 1px 2px rgba(0, 0, 0, 0.3));\n",
              "      fill: #FFFFFF;\n",
              "    }\n",
              "  </style>\n",
              "\n",
              "    <script>\n",
              "      const buttonEl =\n",
              "        document.querySelector('#df-f453c484-54f2-482d-82d0-18700a0b242c button.colab-df-convert');\n",
              "      buttonEl.style.display =\n",
              "        google.colab.kernel.accessAllowed ? 'block' : 'none';\n",
              "\n",
              "      async function convertToInteractive(key) {\n",
              "        const element = document.querySelector('#df-f453c484-54f2-482d-82d0-18700a0b242c');\n",
              "        const dataTable =\n",
              "          await google.colab.kernel.invokeFunction('convertToInteractive',\n",
              "                                                    [key], {});\n",
              "        if (!dataTable) return;\n",
              "\n",
              "        const docLinkHtml = 'Like what you see? Visit the ' +\n",
              "          '<a target=\"_blank\" href=https://colab.research.google.com/notebooks/data_table.ipynb>data table notebook</a>'\n",
              "          + ' to learn more about interactive tables.';\n",
              "        element.innerHTML = '';\n",
              "        dataTable['output_type'] = 'display_data';\n",
              "        await google.colab.output.renderOutput(dataTable, element);\n",
              "        const docLink = document.createElement('div');\n",
              "        docLink.innerHTML = docLinkHtml;\n",
              "        element.appendChild(docLink);\n",
              "      }\n",
              "    </script>\n",
              "  </div>\n",
              "\n",
              "\n",
              "    <div id=\"df-e98ed2c4-4a1c-46df-bc9e-e9ed74998b12\">\n",
              "      <button class=\"colab-df-quickchart\" onclick=\"quickchart('df-e98ed2c4-4a1c-46df-bc9e-e9ed74998b12')\"\n",
              "                title=\"Suggest charts\"\n",
              "                style=\"display:none;\">\n",
              "\n",
              "<svg xmlns=\"http://www.w3.org/2000/svg\" height=\"24px\"viewBox=\"0 0 24 24\"\n",
              "     width=\"24px\">\n",
              "    <g>\n",
              "        <path d=\"M19 3H5c-1.1 0-2 .9-2 2v14c0 1.1.9 2 2 2h14c1.1 0 2-.9 2-2V5c0-1.1-.9-2-2-2zM9 17H7v-7h2v7zm4 0h-2V7h2v10zm4 0h-2v-4h2v4z\"/>\n",
              "    </g>\n",
              "</svg>\n",
              "      </button>\n",
              "\n",
              "<style>\n",
              "  .colab-df-quickchart {\n",
              "      --bg-color: #E8F0FE;\n",
              "      --fill-color: #1967D2;\n",
              "      --hover-bg-color: #E2EBFA;\n",
              "      --hover-fill-color: #174EA6;\n",
              "      --disabled-fill-color: #AAA;\n",
              "      --disabled-bg-color: #DDD;\n",
              "  }\n",
              "\n",
              "  [theme=dark] .colab-df-quickchart {\n",
              "      --bg-color: #3B4455;\n",
              "      --fill-color: #D2E3FC;\n",
              "      --hover-bg-color: #434B5C;\n",
              "      --hover-fill-color: #FFFFFF;\n",
              "      --disabled-bg-color: #3B4455;\n",
              "      --disabled-fill-color: #666;\n",
              "  }\n",
              "\n",
              "  .colab-df-quickchart {\n",
              "    background-color: var(--bg-color);\n",
              "    border: none;\n",
              "    border-radius: 50%;\n",
              "    cursor: pointer;\n",
              "    display: none;\n",
              "    fill: var(--fill-color);\n",
              "    height: 32px;\n",
              "    padding: 0;\n",
              "    width: 32px;\n",
              "  }\n",
              "\n",
              "  .colab-df-quickchart:hover {\n",
              "    background-color: var(--hover-bg-color);\n",
              "    box-shadow: 0 1px 2px rgba(60, 64, 67, 0.3), 0 1px 3px 1px rgba(60, 64, 67, 0.15);\n",
              "    fill: var(--button-hover-fill-color);\n",
              "  }\n",
              "\n",
              "  .colab-df-quickchart-complete:disabled,\n",
              "  .colab-df-quickchart-complete:disabled:hover {\n",
              "    background-color: var(--disabled-bg-color);\n",
              "    fill: var(--disabled-fill-color);\n",
              "    box-shadow: none;\n",
              "  }\n",
              "\n",
              "  .colab-df-spinner {\n",
              "    border: 2px solid var(--fill-color);\n",
              "    border-color: transparent;\n",
              "    border-bottom-color: var(--fill-color);\n",
              "    animation:\n",
              "      spin 1s steps(1) infinite;\n",
              "  }\n",
              "\n",
              "  @keyframes spin {\n",
              "    0% {\n",
              "      border-color: transparent;\n",
              "      border-bottom-color: var(--fill-color);\n",
              "      border-left-color: var(--fill-color);\n",
              "    }\n",
              "    20% {\n",
              "      border-color: transparent;\n",
              "      border-left-color: var(--fill-color);\n",
              "      border-top-color: var(--fill-color);\n",
              "    }\n",
              "    30% {\n",
              "      border-color: transparent;\n",
              "      border-left-color: var(--fill-color);\n",
              "      border-top-color: var(--fill-color);\n",
              "      border-right-color: var(--fill-color);\n",
              "    }\n",
              "    40% {\n",
              "      border-color: transparent;\n",
              "      border-right-color: var(--fill-color);\n",
              "      border-top-color: var(--fill-color);\n",
              "    }\n",
              "    60% {\n",
              "      border-color: transparent;\n",
              "      border-right-color: var(--fill-color);\n",
              "    }\n",
              "    80% {\n",
              "      border-color: transparent;\n",
              "      border-right-color: var(--fill-color);\n",
              "      border-bottom-color: var(--fill-color);\n",
              "    }\n",
              "    90% {\n",
              "      border-color: transparent;\n",
              "      border-bottom-color: var(--fill-color);\n",
              "    }\n",
              "  }\n",
              "</style>\n",
              "\n",
              "      <script>\n",
              "        async function quickchart(key) {\n",
              "          const quickchartButtonEl =\n",
              "            document.querySelector('#' + key + ' button');\n",
              "          quickchartButtonEl.disabled = true;  // To prevent multiple clicks.\n",
              "          quickchartButtonEl.classList.add('colab-df-spinner');\n",
              "          try {\n",
              "            const charts = await google.colab.kernel.invokeFunction(\n",
              "                'suggestCharts', [key], {});\n",
              "          } catch (error) {\n",
              "            console.error('Error during call to suggestCharts:', error);\n",
              "          }\n",
              "          quickchartButtonEl.classList.remove('colab-df-spinner');\n",
              "          quickchartButtonEl.classList.add('colab-df-quickchart-complete');\n",
              "        }\n",
              "        (() => {\n",
              "          let quickchartButtonEl =\n",
              "            document.querySelector('#df-e98ed2c4-4a1c-46df-bc9e-e9ed74998b12 button');\n",
              "          quickchartButtonEl.style.display =\n",
              "            google.colab.kernel.accessAllowed ? 'block' : 'none';\n",
              "        })();\n",
              "      </script>\n",
              "    </div>\n",
              "\n",
              "    </div>\n",
              "  </div>\n"
            ],
            "application/vnd.google.colaboratory.intrinsic+json": {
              "type": "dataframe",
              "variable_name": "data",
              "summary": "{\n  \"name\": \"data\",\n  \"rows\": 42656,\n  \"fields\": [\n    {\n      \"column\": \"Review_ID\",\n      \"properties\": {\n        \"dtype\": \"number\",\n        \"std\": 165709224,\n        \"min\": 1398724,\n        \"max\": 670801367,\n        \"num_unique_values\": 42636,\n        \"samples\": [\n          443940017,\n          289625345,\n          143729284\n        ],\n        \"semantic_type\": \"\",\n        \"description\": \"\"\n      }\n    },\n    {\n      \"column\": \"Rating\",\n      \"properties\": {\n        \"dtype\": \"number\",\n        \"std\": 1,\n        \"min\": 1,\n        \"max\": 5,\n        \"num_unique_values\": 5,\n        \"samples\": [\n          3,\n          1,\n          5\n        ],\n        \"semantic_type\": \"\",\n        \"description\": \"\"\n      }\n    },\n    {\n      \"column\": \"Year_Month\",\n      \"properties\": {\n        \"dtype\": \"category\",\n        \"num_unique_values\": 112,\n        \"samples\": [\n          \"2016-2\",\n          \"2014-1\",\n          \"2019-1\"\n        ],\n        \"semantic_type\": \"\",\n        \"description\": \"\"\n      }\n    },\n    {\n      \"column\": \"Reviewer_Location\",\n      \"properties\": {\n        \"dtype\": \"category\",\n        \"num_unique_values\": 162,\n        \"samples\": [\n          \"El Salvador\",\n          \"South Sudan\",\n          \"Honduras\"\n        ],\n        \"semantic_type\": \"\",\n        \"description\": \"\"\n      }\n    },\n    {\n      \"column\": \"Review_Text\",\n      \"properties\": {\n        \"dtype\": \"string\",\n        \"num_unique_values\": 42632,\n        \"samples\": [\n          \"take a child with you to see their excitement. I had my 4 yr old grandson to see how they enjoyed. there are any number of locations to spend the whole day. time passes to the night until the fireworks ending the show.\",\n          \"If you can get discount tickets do your best to do that. The weekdays are the best to go as they're not as crowded. Get fast passes for the rides that offer it. The workers are really nice. One of the workers on Nemo overheard it was my daughter's 3rd birthday. She asked why she didn't have a birthday button and I said I didn't know about them. When we got off the ride she had one waiting for us and put my daughter's name on it. It was really special.\",\n          \"As always the great joy for the kids makes up for the ridiculously high costs of food and drink! Still a winner for the kids   our 3 year old grandson and our 25 year old daughter and her husband. Fast pass is a must if you don't want to queue for hours. But rides deliver and staff were I have no idea how! The food and drinks are atrociously expensive and the food inside is dreadful. Dinner at Pirates of the Caribbean was 2.5 hours of misery, warm food and dreadful service. How do they get it so wrong. Eat in the village just outside the park so much better! \"\n        ],\n        \"semantic_type\": \"\",\n        \"description\": \"\"\n      }\n    },\n    {\n      \"column\": \"Branch\",\n      \"properties\": {\n        \"dtype\": \"category\",\n        \"num_unique_values\": 3,\n        \"samples\": [\n          \"Disneyland_HongKong\",\n          \"Disneyland_California\",\n          \"Disneyland_Paris\"\n        ],\n        \"semantic_type\": \"\",\n        \"description\": \"\"\n      }\n    }\n  ]\n}"
            }
          },
          "metadata": {},
          "execution_count": 189
        }
      ],
      "source": [
        "# Read Data\n",
        "data.head()"
      ]
    },
    {
      "cell_type": "code",
      "source": [
        "# How many customer responded to the survey?\n",
        "response_count = data['Rating'].notna().sum()\n",
        "\n",
        "# Output the result\n",
        "print(f\"Jumlah pelanggan yang mengisi survei: {response_count}\")"
      ],
      "metadata": {
        "colab": {
          "base_uri": "https://localhost:8080/"
        },
        "id": "idkxAsOhtikD",
        "outputId": "148aa4b4-3254-43d4-99bd-f4cb8ae8bfab"
      },
      "execution_count": null,
      "outputs": [
        {
          "output_type": "stream",
          "name": "stdout",
          "text": [
            "Jumlah pelanggan yang mengisi survei: 42656\n"
          ]
        }
      ]
    },
    {
      "cell_type": "markdown",
      "metadata": {
        "id": "JwcScuOJtpx9"
      },
      "source": [
        "The following is the dictionary for the data, survey is only valid if all of the survey questions and text review is not blank (null):\n",
        "\n",
        "**General Information**\n",
        "- Review_ID: unique id given to each review\n",
        "- Rating: ranging from 1 (unsatisfied) to 5 (satisfied)\n",
        "- Year_Month: when the reviewer visited the theme park\n",
        "- Reviewer_Location: country of origin of visitor\n",
        "- Review_Text: comments made by visitor\n",
        "- Disneyland_Branch: location of Disneyland Park\n"
      ]
    },
    {
      "cell_type": "code",
      "execution_count": null,
      "metadata": {
        "colab": {
          "base_uri": "https://localhost:8080/"
        },
        "id": "fBIF-6T3tVnc",
        "outputId": "f69b09cd-86e3-42b6-a81f-f1e0ff88bc50"
      },
      "outputs": [
        {
          "output_type": "stream",
          "name": "stdout",
          "text": [
            "<class 'pandas.core.frame.DataFrame'>\n",
            "RangeIndex: 42656 entries, 0 to 42655\n",
            "Data columns (total 6 columns):\n",
            " #   Column             Non-Null Count  Dtype \n",
            "---  ------             --------------  ----- \n",
            " 0   Review_ID          42656 non-null  int64 \n",
            " 1   Rating             42656 non-null  int64 \n",
            " 2   Year_Month         42656 non-null  object\n",
            " 3   Reviewer_Location  42656 non-null  object\n",
            " 4   Review_Text        42656 non-null  object\n",
            " 5   Branch             42656 non-null  object\n",
            "dtypes: int64(2), object(4)\n",
            "memory usage: 2.0+ MB\n"
          ]
        }
      ],
      "source": [
        "# Check the type of data\n",
        "data.info()"
      ]
    },
    {
      "cell_type": "markdown",
      "metadata": {
        "id": "jMx3NFjnurX3"
      },
      "source": [
        "### Data Cleansing"
      ]
    },
    {
      "cell_type": "markdown",
      "metadata": {
        "id": "qsgtCW4xI7AU"
      },
      "source": [
        "Check column Year Month"
      ]
    },
    {
      "cell_type": "markdown",
      "metadata": {
        "id": "w0bzVV8gEQw0"
      },
      "source": [
        "Delete missing value in Year_month column"
      ]
    },
    {
      "cell_type": "code",
      "execution_count": null,
      "metadata": {
        "colab": {
          "base_uri": "https://localhost:8080/"
        },
        "id": "HPM--4BVG412",
        "outputId": "150f70a9-5d5a-4358-98b7-fd733cbd3ac7"
      },
      "outputs": [
        {
          "output_type": "stream",
          "name": "stdout",
          "text": [
            "['2019-4' '2019-5' '2019-3' '2018-9' '2019-1' '2018-11' '2018-12' '2018-6'\n",
            " '2019-2' '2018-10' '2018-8' '2018-5' '2018-4' '2018-7' '2018-3' '2018-2'\n",
            " 'missing' '2018-1' '2017-12' '2017-11' '2017-6' '2017-10' '2017-9'\n",
            " '2017-8' '2017-7' '2017-5' '2017-4' '2017-3' '2017-2' '2017-1' '2016-12'\n",
            " '2016-11' '2016-10' '2016-9' '2016-8' '2016-7' '2016-6' '2016-5' '2016-4'\n",
            " '2016-3' '2016-2' '2016-1' '2015-12' '2015-11' '2015-10' '2015-9'\n",
            " '2015-8' '2015-7' '2015-6' '2015-5' '2015-4' '2015-3' '2015-2' '2015-1'\n",
            " '2014-12' '2014-11' '2014-10' '2014-9' '2014-8' '2014-7' '2014-6'\n",
            " '2014-5' '2014-4' '2014-3' '2014-2' '2014-1' '2013-12' '2013-11'\n",
            " '2013-10' '2013-9' '2013-8' '2013-7' '2013-6' '2013-5' '2013-4' '2013-3'\n",
            " '2013-2' '2013-1' '2012-12' '2012-11' '2012-10' '2012-9' '2012-8'\n",
            " '2012-7' '2012-6' '2012-5' '2012-4' '2012-3' '2012-2' '2012-1' '2011-12'\n",
            " '2011-11' '2011-10' '2011-9' '2011-8' '2011-7' '2011-6' '2011-5' '2011-4'\n",
            " '2011-3' '2011-2' '2011-1' '2010-12' '2010-11' '2010-10' '2010-9'\n",
            " '2010-5' '2010-3' '2010-8' '2010-7' '2010-6' '2010-4']\n"
          ]
        }
      ],
      "source": [
        "# Check unique values in Year_Month to identify problematic entries\n",
        "print(data['Year_Month'].unique())"
      ]
    },
    {
      "cell_type": "code",
      "execution_count": null,
      "metadata": {
        "id": "NdX1M9w8H1vv"
      },
      "outputs": [],
      "source": [
        "# Change value 'missing' with NaT (Not a Time)\n",
        "data['Year_Month'] = data['Year_Month'].replace('missing', pd.NaT)"
      ]
    },
    {
      "cell_type": "code",
      "execution_count": null,
      "metadata": {
        "id": "SHzQtV5PIUH7"
      },
      "outputs": [],
      "source": [
        "# Adding a zero in front of months that only have one digit,'2019-1' become '2019-01'\n",
        "data['Year_Month'] = data['Year_Month'].apply(lambda x: f'{x[:4]}-{x[5:].zfill(2)}' if isinstance(x, str) else x)\n"
      ]
    },
    {
      "cell_type": "markdown",
      "metadata": {
        "id": "_yDf4t6SEI37"
      },
      "source": [
        "Convert the date column into proper date_time format."
      ]
    },
    {
      "cell_type": "code",
      "execution_count": null,
      "metadata": {
        "colab": {
          "base_uri": "https://localhost:8080/",
          "height": 424
        },
        "id": "EvqKoYTfIXby",
        "outputId": "39035c92-7084-4548-d545-7a561b223a00"
      },
      "outputs": [
        {
          "output_type": "execute_result",
          "data": {
            "text/plain": [
              "    Review_ID  Rating Year_Month     Reviewer_Location  \\\n",
              "0   670772142       4    2019-04             Australia   \n",
              "1   670682799       4    2019-05           Philippines   \n",
              "2   670623270       4    2019-04  United Arab Emirates   \n",
              "3   670607911       4    2019-04             Australia   \n",
              "4   670607296       4    2019-04        United Kingdom   \n",
              "..        ...     ...        ...                   ...   \n",
              "95  663350807       5    2019-03             Indonesia   \n",
              "96  663079041       5    2019-03             Australia   \n",
              "97  662971560       4    2019-03             Singapore   \n",
              "98  662786512       4    2019-03              Malaysia   \n",
              "99  662694762       4    2019-03        United Kingdom   \n",
              "\n",
              "                                          Review_Text               Branch  \n",
              "0   If you've ever been to Disneyland anywhere you...  Disneyland_HongKong  \n",
              "1   Its been a while since d last time we visit HK...  Disneyland_HongKong  \n",
              "2   Thanks God it wasn   t too hot or too humid wh...  Disneyland_HongKong  \n",
              "3   HK Disneyland is a great compact park. Unfortu...  Disneyland_HongKong  \n",
              "4   the location is not in the city, took around 1...  Disneyland_HongKong  \n",
              "..                                                ...                  ...  \n",
              "95  Fantastic  Nice place and kids friendly  Easly...  Disneyland_HongKong  \n",
              "96  What is there not to love about Disneyland? Th...  Disneyland_HongKong  \n",
              "97  Friendly staff and cooling weather! Used Klook...  Disneyland_HongKong  \n",
              "98  Smallest Disneyland and spent a day here. Havi...  Disneyland_HongKong  \n",
              "99  I'm a big Disney park fan and a regular visito...  Disneyland_HongKong  \n",
              "\n",
              "[100 rows x 6 columns]"
            ],
            "text/html": [
              "\n",
              "  <div id=\"df-164de7dc-d0d1-4c83-ad5f-e0bd7d301fc3\" class=\"colab-df-container\">\n",
              "    <div>\n",
              "<style scoped>\n",
              "    .dataframe tbody tr th:only-of-type {\n",
              "        vertical-align: middle;\n",
              "    }\n",
              "\n",
              "    .dataframe tbody tr th {\n",
              "        vertical-align: top;\n",
              "    }\n",
              "\n",
              "    .dataframe thead th {\n",
              "        text-align: right;\n",
              "    }\n",
              "</style>\n",
              "<table border=\"1\" class=\"dataframe\">\n",
              "  <thead>\n",
              "    <tr style=\"text-align: right;\">\n",
              "      <th></th>\n",
              "      <th>Review_ID</th>\n",
              "      <th>Rating</th>\n",
              "      <th>Year_Month</th>\n",
              "      <th>Reviewer_Location</th>\n",
              "      <th>Review_Text</th>\n",
              "      <th>Branch</th>\n",
              "    </tr>\n",
              "  </thead>\n",
              "  <tbody>\n",
              "    <tr>\n",
              "      <th>0</th>\n",
              "      <td>670772142</td>\n",
              "      <td>4</td>\n",
              "      <td>2019-04</td>\n",
              "      <td>Australia</td>\n",
              "      <td>If you've ever been to Disneyland anywhere you...</td>\n",
              "      <td>Disneyland_HongKong</td>\n",
              "    </tr>\n",
              "    <tr>\n",
              "      <th>1</th>\n",
              "      <td>670682799</td>\n",
              "      <td>4</td>\n",
              "      <td>2019-05</td>\n",
              "      <td>Philippines</td>\n",
              "      <td>Its been a while since d last time we visit HK...</td>\n",
              "      <td>Disneyland_HongKong</td>\n",
              "    </tr>\n",
              "    <tr>\n",
              "      <th>2</th>\n",
              "      <td>670623270</td>\n",
              "      <td>4</td>\n",
              "      <td>2019-04</td>\n",
              "      <td>United Arab Emirates</td>\n",
              "      <td>Thanks God it wasn   t too hot or too humid wh...</td>\n",
              "      <td>Disneyland_HongKong</td>\n",
              "    </tr>\n",
              "    <tr>\n",
              "      <th>3</th>\n",
              "      <td>670607911</td>\n",
              "      <td>4</td>\n",
              "      <td>2019-04</td>\n",
              "      <td>Australia</td>\n",
              "      <td>HK Disneyland is a great compact park. Unfortu...</td>\n",
              "      <td>Disneyland_HongKong</td>\n",
              "    </tr>\n",
              "    <tr>\n",
              "      <th>4</th>\n",
              "      <td>670607296</td>\n",
              "      <td>4</td>\n",
              "      <td>2019-04</td>\n",
              "      <td>United Kingdom</td>\n",
              "      <td>the location is not in the city, took around 1...</td>\n",
              "      <td>Disneyland_HongKong</td>\n",
              "    </tr>\n",
              "    <tr>\n",
              "      <th>...</th>\n",
              "      <td>...</td>\n",
              "      <td>...</td>\n",
              "      <td>...</td>\n",
              "      <td>...</td>\n",
              "      <td>...</td>\n",
              "      <td>...</td>\n",
              "    </tr>\n",
              "    <tr>\n",
              "      <th>95</th>\n",
              "      <td>663350807</td>\n",
              "      <td>5</td>\n",
              "      <td>2019-03</td>\n",
              "      <td>Indonesia</td>\n",
              "      <td>Fantastic  Nice place and kids friendly  Easly...</td>\n",
              "      <td>Disneyland_HongKong</td>\n",
              "    </tr>\n",
              "    <tr>\n",
              "      <th>96</th>\n",
              "      <td>663079041</td>\n",
              "      <td>5</td>\n",
              "      <td>2019-03</td>\n",
              "      <td>Australia</td>\n",
              "      <td>What is there not to love about Disneyland? Th...</td>\n",
              "      <td>Disneyland_HongKong</td>\n",
              "    </tr>\n",
              "    <tr>\n",
              "      <th>97</th>\n",
              "      <td>662971560</td>\n",
              "      <td>4</td>\n",
              "      <td>2019-03</td>\n",
              "      <td>Singapore</td>\n",
              "      <td>Friendly staff and cooling weather! Used Klook...</td>\n",
              "      <td>Disneyland_HongKong</td>\n",
              "    </tr>\n",
              "    <tr>\n",
              "      <th>98</th>\n",
              "      <td>662786512</td>\n",
              "      <td>4</td>\n",
              "      <td>2019-03</td>\n",
              "      <td>Malaysia</td>\n",
              "      <td>Smallest Disneyland and spent a day here. Havi...</td>\n",
              "      <td>Disneyland_HongKong</td>\n",
              "    </tr>\n",
              "    <tr>\n",
              "      <th>99</th>\n",
              "      <td>662694762</td>\n",
              "      <td>4</td>\n",
              "      <td>2019-03</td>\n",
              "      <td>United Kingdom</td>\n",
              "      <td>I'm a big Disney park fan and a regular visito...</td>\n",
              "      <td>Disneyland_HongKong</td>\n",
              "    </tr>\n",
              "  </tbody>\n",
              "</table>\n",
              "<p>100 rows × 6 columns</p>\n",
              "</div>\n",
              "    <div class=\"colab-df-buttons\">\n",
              "\n",
              "  <div class=\"colab-df-container\">\n",
              "    <button class=\"colab-df-convert\" onclick=\"convertToInteractive('df-164de7dc-d0d1-4c83-ad5f-e0bd7d301fc3')\"\n",
              "            title=\"Convert this dataframe to an interactive table.\"\n",
              "            style=\"display:none;\">\n",
              "\n",
              "  <svg xmlns=\"http://www.w3.org/2000/svg\" height=\"24px\" viewBox=\"0 -960 960 960\">\n",
              "    <path d=\"M120-120v-720h720v720H120Zm60-500h600v-160H180v160Zm220 220h160v-160H400v160Zm0 220h160v-160H400v160ZM180-400h160v-160H180v160Zm440 0h160v-160H620v160ZM180-180h160v-160H180v160Zm440 0h160v-160H620v160Z\"/>\n",
              "  </svg>\n",
              "    </button>\n",
              "\n",
              "  <style>\n",
              "    .colab-df-container {\n",
              "      display:flex;\n",
              "      gap: 12px;\n",
              "    }\n",
              "\n",
              "    .colab-df-convert {\n",
              "      background-color: #E8F0FE;\n",
              "      border: none;\n",
              "      border-radius: 50%;\n",
              "      cursor: pointer;\n",
              "      display: none;\n",
              "      fill: #1967D2;\n",
              "      height: 32px;\n",
              "      padding: 0 0 0 0;\n",
              "      width: 32px;\n",
              "    }\n",
              "\n",
              "    .colab-df-convert:hover {\n",
              "      background-color: #E2EBFA;\n",
              "      box-shadow: 0px 1px 2px rgba(60, 64, 67, 0.3), 0px 1px 3px 1px rgba(60, 64, 67, 0.15);\n",
              "      fill: #174EA6;\n",
              "    }\n",
              "\n",
              "    .colab-df-buttons div {\n",
              "      margin-bottom: 4px;\n",
              "    }\n",
              "\n",
              "    [theme=dark] .colab-df-convert {\n",
              "      background-color: #3B4455;\n",
              "      fill: #D2E3FC;\n",
              "    }\n",
              "\n",
              "    [theme=dark] .colab-df-convert:hover {\n",
              "      background-color: #434B5C;\n",
              "      box-shadow: 0px 1px 3px 1px rgba(0, 0, 0, 0.15);\n",
              "      filter: drop-shadow(0px 1px 2px rgba(0, 0, 0, 0.3));\n",
              "      fill: #FFFFFF;\n",
              "    }\n",
              "  </style>\n",
              "\n",
              "    <script>\n",
              "      const buttonEl =\n",
              "        document.querySelector('#df-164de7dc-d0d1-4c83-ad5f-e0bd7d301fc3 button.colab-df-convert');\n",
              "      buttonEl.style.display =\n",
              "        google.colab.kernel.accessAllowed ? 'block' : 'none';\n",
              "\n",
              "      async function convertToInteractive(key) {\n",
              "        const element = document.querySelector('#df-164de7dc-d0d1-4c83-ad5f-e0bd7d301fc3');\n",
              "        const dataTable =\n",
              "          await google.colab.kernel.invokeFunction('convertToInteractive',\n",
              "                                                    [key], {});\n",
              "        if (!dataTable) return;\n",
              "\n",
              "        const docLinkHtml = 'Like what you see? Visit the ' +\n",
              "          '<a target=\"_blank\" href=https://colab.research.google.com/notebooks/data_table.ipynb>data table notebook</a>'\n",
              "          + ' to learn more about interactive tables.';\n",
              "        element.innerHTML = '';\n",
              "        dataTable['output_type'] = 'display_data';\n",
              "        await google.colab.output.renderOutput(dataTable, element);\n",
              "        const docLink = document.createElement('div');\n",
              "        docLink.innerHTML = docLinkHtml;\n",
              "        element.appendChild(docLink);\n",
              "      }\n",
              "    </script>\n",
              "  </div>\n",
              "\n",
              "\n",
              "    <div id=\"df-756b83af-ff2e-4bdc-b442-b43147ad4980\">\n",
              "      <button class=\"colab-df-quickchart\" onclick=\"quickchart('df-756b83af-ff2e-4bdc-b442-b43147ad4980')\"\n",
              "                title=\"Suggest charts\"\n",
              "                style=\"display:none;\">\n",
              "\n",
              "<svg xmlns=\"http://www.w3.org/2000/svg\" height=\"24px\"viewBox=\"0 0 24 24\"\n",
              "     width=\"24px\">\n",
              "    <g>\n",
              "        <path d=\"M19 3H5c-1.1 0-2 .9-2 2v14c0 1.1.9 2 2 2h14c1.1 0 2-.9 2-2V5c0-1.1-.9-2-2-2zM9 17H7v-7h2v7zm4 0h-2V7h2v10zm4 0h-2v-4h2v4z\"/>\n",
              "    </g>\n",
              "</svg>\n",
              "      </button>\n",
              "\n",
              "<style>\n",
              "  .colab-df-quickchart {\n",
              "      --bg-color: #E8F0FE;\n",
              "      --fill-color: #1967D2;\n",
              "      --hover-bg-color: #E2EBFA;\n",
              "      --hover-fill-color: #174EA6;\n",
              "      --disabled-fill-color: #AAA;\n",
              "      --disabled-bg-color: #DDD;\n",
              "  }\n",
              "\n",
              "  [theme=dark] .colab-df-quickchart {\n",
              "      --bg-color: #3B4455;\n",
              "      --fill-color: #D2E3FC;\n",
              "      --hover-bg-color: #434B5C;\n",
              "      --hover-fill-color: #FFFFFF;\n",
              "      --disabled-bg-color: #3B4455;\n",
              "      --disabled-fill-color: #666;\n",
              "  }\n",
              "\n",
              "  .colab-df-quickchart {\n",
              "    background-color: var(--bg-color);\n",
              "    border: none;\n",
              "    border-radius: 50%;\n",
              "    cursor: pointer;\n",
              "    display: none;\n",
              "    fill: var(--fill-color);\n",
              "    height: 32px;\n",
              "    padding: 0;\n",
              "    width: 32px;\n",
              "  }\n",
              "\n",
              "  .colab-df-quickchart:hover {\n",
              "    background-color: var(--hover-bg-color);\n",
              "    box-shadow: 0 1px 2px rgba(60, 64, 67, 0.3), 0 1px 3px 1px rgba(60, 64, 67, 0.15);\n",
              "    fill: var(--button-hover-fill-color);\n",
              "  }\n",
              "\n",
              "  .colab-df-quickchart-complete:disabled,\n",
              "  .colab-df-quickchart-complete:disabled:hover {\n",
              "    background-color: var(--disabled-bg-color);\n",
              "    fill: var(--disabled-fill-color);\n",
              "    box-shadow: none;\n",
              "  }\n",
              "\n",
              "  .colab-df-spinner {\n",
              "    border: 2px solid var(--fill-color);\n",
              "    border-color: transparent;\n",
              "    border-bottom-color: var(--fill-color);\n",
              "    animation:\n",
              "      spin 1s steps(1) infinite;\n",
              "  }\n",
              "\n",
              "  @keyframes spin {\n",
              "    0% {\n",
              "      border-color: transparent;\n",
              "      border-bottom-color: var(--fill-color);\n",
              "      border-left-color: var(--fill-color);\n",
              "    }\n",
              "    20% {\n",
              "      border-color: transparent;\n",
              "      border-left-color: var(--fill-color);\n",
              "      border-top-color: var(--fill-color);\n",
              "    }\n",
              "    30% {\n",
              "      border-color: transparent;\n",
              "      border-left-color: var(--fill-color);\n",
              "      border-top-color: var(--fill-color);\n",
              "      border-right-color: var(--fill-color);\n",
              "    }\n",
              "    40% {\n",
              "      border-color: transparent;\n",
              "      border-right-color: var(--fill-color);\n",
              "      border-top-color: var(--fill-color);\n",
              "    }\n",
              "    60% {\n",
              "      border-color: transparent;\n",
              "      border-right-color: var(--fill-color);\n",
              "    }\n",
              "    80% {\n",
              "      border-color: transparent;\n",
              "      border-right-color: var(--fill-color);\n",
              "      border-bottom-color: var(--fill-color);\n",
              "    }\n",
              "    90% {\n",
              "      border-color: transparent;\n",
              "      border-bottom-color: var(--fill-color);\n",
              "    }\n",
              "  }\n",
              "</style>\n",
              "\n",
              "      <script>\n",
              "        async function quickchart(key) {\n",
              "          const quickchartButtonEl =\n",
              "            document.querySelector('#' + key + ' button');\n",
              "          quickchartButtonEl.disabled = true;  // To prevent multiple clicks.\n",
              "          quickchartButtonEl.classList.add('colab-df-spinner');\n",
              "          try {\n",
              "            const charts = await google.colab.kernel.invokeFunction(\n",
              "                'suggestCharts', [key], {});\n",
              "          } catch (error) {\n",
              "            console.error('Error during call to suggestCharts:', error);\n",
              "          }\n",
              "          quickchartButtonEl.classList.remove('colab-df-spinner');\n",
              "          quickchartButtonEl.classList.add('colab-df-quickchart-complete');\n",
              "        }\n",
              "        (() => {\n",
              "          let quickchartButtonEl =\n",
              "            document.querySelector('#df-756b83af-ff2e-4bdc-b442-b43147ad4980 button');\n",
              "          quickchartButtonEl.style.display =\n",
              "            google.colab.kernel.accessAllowed ? 'block' : 'none';\n",
              "        })();\n",
              "      </script>\n",
              "    </div>\n",
              "\n",
              "    </div>\n",
              "  </div>\n"
            ],
            "application/vnd.google.colaboratory.intrinsic+json": {
              "type": "dataframe",
              "variable_name": "data",
              "summary": "{\n  \"name\": \"data\",\n  \"rows\": 42656,\n  \"fields\": [\n    {\n      \"column\": \"Review_ID\",\n      \"properties\": {\n        \"dtype\": \"number\",\n        \"std\": 165709224,\n        \"min\": 1398724,\n        \"max\": 670801367,\n        \"num_unique_values\": 42636,\n        \"samples\": [\n          443940017,\n          289625345,\n          143729284\n        ],\n        \"semantic_type\": \"\",\n        \"description\": \"\"\n      }\n    },\n    {\n      \"column\": \"Rating\",\n      \"properties\": {\n        \"dtype\": \"number\",\n        \"std\": 1,\n        \"min\": 1,\n        \"max\": 5,\n        \"num_unique_values\": 5,\n        \"samples\": [\n          3,\n          1,\n          5\n        ],\n        \"semantic_type\": \"\",\n        \"description\": \"\"\n      }\n    },\n    {\n      \"column\": \"Year_Month\",\n      \"properties\": {\n        \"dtype\": \"object\",\n        \"num_unique_values\": 111,\n        \"samples\": [\n          \"2012-11\",\n          \"2018-08\",\n          \"2019-01\"\n        ],\n        \"semantic_type\": \"\",\n        \"description\": \"\"\n      }\n    },\n    {\n      \"column\": \"Reviewer_Location\",\n      \"properties\": {\n        \"dtype\": \"category\",\n        \"num_unique_values\": 162,\n        \"samples\": [\n          \"El Salvador\",\n          \"South Sudan\",\n          \"Honduras\"\n        ],\n        \"semantic_type\": \"\",\n        \"description\": \"\"\n      }\n    },\n    {\n      \"column\": \"Review_Text\",\n      \"properties\": {\n        \"dtype\": \"string\",\n        \"num_unique_values\": 42632,\n        \"samples\": [\n          \"take a child with you to see their excitement. I had my 4 yr old grandson to see how they enjoyed. there are any number of locations to spend the whole day. time passes to the night until the fireworks ending the show.\",\n          \"If you can get discount tickets do your best to do that. The weekdays are the best to go as they're not as crowded. Get fast passes for the rides that offer it. The workers are really nice. One of the workers on Nemo overheard it was my daughter's 3rd birthday. She asked why she didn't have a birthday button and I said I didn't know about them. When we got off the ride she had one waiting for us and put my daughter's name on it. It was really special.\",\n          \"As always the great joy for the kids makes up for the ridiculously high costs of food and drink! Still a winner for the kids   our 3 year old grandson and our 25 year old daughter and her husband. Fast pass is a must if you don't want to queue for hours. But rides deliver and staff were I have no idea how! The food and drinks are atrociously expensive and the food inside is dreadful. Dinner at Pirates of the Caribbean was 2.5 hours of misery, warm food and dreadful service. How do they get it so wrong. Eat in the village just outside the park so much better! \"\n        ],\n        \"semantic_type\": \"\",\n        \"description\": \"\"\n      }\n    },\n    {\n      \"column\": \"Branch\",\n      \"properties\": {\n        \"dtype\": \"category\",\n        \"num_unique_values\": 3,\n        \"samples\": [\n          \"Disneyland_HongKong\",\n          \"Disneyland_California\",\n          \"Disneyland_Paris\"\n        ],\n        \"semantic_type\": \"\",\n        \"description\": \"\"\n      }\n    }\n  ]\n}"
            }
          },
          "metadata": {},
          "execution_count": 195
        }
      ],
      "source": [
        "data.head(100)"
      ]
    },
    {
      "cell_type": "code",
      "source": [
        "\n",
        "# Menghapus baris dengan nilai kosong pada kolom 'Year_Month'\n",
        "data = data.dropna(subset=['Year_Month'])"
      ],
      "metadata": {
        "id": "HyZedk3xoeo9"
      },
      "execution_count": null,
      "outputs": []
    },
    {
      "cell_type": "code",
      "source": [
        "print(data.dtypes)\n"
      ],
      "metadata": {
        "colab": {
          "base_uri": "https://localhost:8080/"
        },
        "id": "PkpFlbzYmv4x",
        "outputId": "703b7350-b33b-4eb8-d74d-610fde76ebd7"
      },
      "execution_count": null,
      "outputs": [
        {
          "output_type": "stream",
          "name": "stdout",
          "text": [
            "Review_ID             int64\n",
            "Rating                int64\n",
            "Year_Month           object\n",
            "Reviewer_Location    object\n",
            "Review_Text          object\n",
            "Branch               object\n",
            "dtype: object\n"
          ]
        }
      ]
    },
    {
      "cell_type": "markdown",
      "metadata": {
        "id": "-Y97DLp8JCJc"
      },
      "source": [
        "Check Column Branch"
      ]
    },
    {
      "cell_type": "markdown",
      "metadata": {
        "id": "sGrykMd3JQ4T"
      },
      "source": [
        "Delete missing value in Branch column"
      ]
    },
    {
      "cell_type": "code",
      "execution_count": null,
      "metadata": {
        "colab": {
          "base_uri": "https://localhost:8080/"
        },
        "id": "q_-DuNNkJkuI",
        "outputId": "6f300116-2dae-4380-b0df-1c84ced066c5"
      },
      "outputs": [
        {
          "output_type": "stream",
          "name": "stdout",
          "text": [
            "['Disneyland_HongKong' 'Disneyland_California' 'Disneyland_Paris']\n"
          ]
        }
      ],
      "source": [
        "# Check unique values in Branch to identify problematic entries\n",
        "print(data['Branch'].unique())"
      ]
    },
    {
      "cell_type": "code",
      "source": [
        "# Ganti string kosong dengan NaN terlebih dahulu\n",
        "data['Branch'].replace('', pd.NA, inplace=True)\n",
        "\n",
        "# Lalu hapus baris yang kosong\n",
        "df_cleaned = data.dropna(subset=['Branch'])\n"
      ],
      "metadata": {
        "colab": {
          "base_uri": "https://localhost:8080/"
        },
        "id": "mMCgTnLacdJ8",
        "outputId": "f7b9e872-70b0-46da-ea6f-f787f67f4cf5"
      },
      "execution_count": null,
      "outputs": [
        {
          "output_type": "stream",
          "name": "stderr",
          "text": [
            "<ipython-input-199-86301d343b45>:2: FutureWarning: A value is trying to be set on a copy of a DataFrame or Series through chained assignment using an inplace method.\n",
            "The behavior will change in pandas 3.0. This inplace method will never work because the intermediate object on which we are setting values always behaves as a copy.\n",
            "\n",
            "For example, when doing 'df[col].method(value, inplace=True)', try using 'df.method({col: value}, inplace=True)' or df[col] = df[col].method(value) instead, to perform the operation inplace on the original object.\n",
            "\n",
            "\n",
            "  data['Branch'].replace('', pd.NA, inplace=True)\n"
          ]
        }
      ]
    },
    {
      "cell_type": "code",
      "source": [
        "# Filter review yang mengandung karakter '*' atau '**'\n",
        "filtered_df = data[data['Review_Text'].str.contains(r'\\*', regex=True)]\n",
        "# Menghapus semua * dan ** dari Review_Text\n",
        "data['Review_Text'] = data['Review_Text'].str.replace(r'\\*+', '', regex=True)"
      ],
      "metadata": {
        "id": "Fjq8fCVtr3Ie"
      },
      "execution_count": null,
      "outputs": []
    },
    {
      "cell_type": "code",
      "source": [
        "# Simpan ke file Excel\n",
        "data.to_excel('Final_DisneylandReviews.xlsx', index=False)"
      ],
      "metadata": {
        "id": "ZOnA792BcygD"
      },
      "execution_count": null,
      "outputs": []
    },
    {
      "cell_type": "markdown",
      "metadata": {
        "id": "wJMOr-C1vm8h"
      },
      "source": [
        "## Survey Analysis"
      ]
    },
    {
      "cell_type": "markdown",
      "metadata": {
        "id": "fPeVsjWJ9JdG"
      },
      "source": [
        "### Response Rate\n",
        "\n",
        "Start by analyzing how many customers has filled the survey, indicated by whether the overall_rating is not blank."
      ]
    },
    {
      "cell_type": "code",
      "execution_count": null,
      "metadata": {
        "colab": {
          "base_uri": "https://localhost:8080/"
        },
        "id": "MwfE7Isuu8VO",
        "outputId": "8a1aaf3d-5ca8-4684-feeb-6474a7b072cf"
      },
      "outputs": [
        {
          "output_type": "stream",
          "name": "stdout",
          "text": [
            "Jumlah pelanggan yang mengisi survei: 40043\n"
          ]
        }
      ],
      "source": [
        "# How many customer responded to the survey?\n",
        "response_count = data['Rating'].notna().sum()\n",
        "\n",
        "# Output the result\n",
        "print(f\"Jumlah pelanggan yang mengisi survei: {response_count}\")"
      ]
    },
    {
      "cell_type": "markdown",
      "metadata": {
        "id": "t5Kh4lR2Su4n"
      },
      "source": [
        "Create a new dataframe that consists only of those who have responded the survey to simplify calculating the CSAT, CES, and NPS Score."
      ]
    },
    {
      "cell_type": "code",
      "execution_count": null,
      "metadata": {
        "colab": {
          "base_uri": "https://localhost:8080/"
        },
        "id": "2f4T3m0cS5G5",
        "outputId": "7f06c8fb-7d20-42fe-8a16-99d5e0daa1d9"
      },
      "outputs": [
        {
          "name": "stdout",
          "output_type": "stream",
          "text": [
            "   Review_ID  Rating Year_Month     Reviewer_Location  \\\n",
            "0  670772142       4 2019-04-01             Australia   \n",
            "1  670682799       4 2019-05-01           Philippines   \n",
            "2  670623270       4 2019-04-01  United Arab Emirates   \n",
            "3  670607911       4 2019-04-01             Australia   \n",
            "4  670607296       4 2019-04-01        United Kingdom   \n",
            "\n",
            "                                         Review_Text               Branch  \n",
            "0  If you've ever been to Disneyland anywhere you...  Disneyland_HongKong  \n",
            "1  Its been a while since d last time we visit HK...  Disneyland_HongKong  \n",
            "2  Thanks God it wasn   t too hot or too humid wh...  Disneyland_HongKong  \n",
            "3  HK Disneyland is a great compact park. Unfortu...  Disneyland_HongKong  \n",
            "4  the location is not in the city, took around 1...  Disneyland_HongKong  \n"
          ]
        }
      ],
      "source": [
        "# Responded Customer\n",
        "responded_customers_df = data[data['Rating'].notna()]\n",
        "\n",
        "# Output the first few rows of the new dataframe to verify\n",
        "print(responded_customers_df.head())"
      ]
    },
    {
      "cell_type": "markdown",
      "metadata": {
        "id": "ElP-9j-kIRbx"
      },
      "source": [
        "### CSAT Score\n",
        "\n",
        "Measure the customer's overall satisfaction score (CSAT) with the following formula:\n",
        "\n",
        "$$\n",
        "CSAT = \\frac{\\Sigma\\ total\\ satisfaction\\ score}{number\\ of\\ responded\\ customer \\times \\max\\ rating}\n",
        "$$\n",
        "\n",
        "The max rating is inserted to convert the CSAT score into percentage.\n",
        "\n",
        "CSAT score can be classified into categories based on the result. There is no absolute threshold for each categories but the following is the common threshold:\n",
        "\n",
        "- \\>= 90%: Excellent\n",
        "- 75%-90%: Good\n",
        "- 60-75%: Fair\n",
        "- \\<60%: Poor"
      ]
    },
    {
      "cell_type": "code",
      "execution_count": null,
      "metadata": {
        "colab": {
          "base_uri": "https://localhost:8080/"
        },
        "id": "8SXtpsGUIw74",
        "outputId": "c97cb25b-794d-4aaa-f986-4e3775f8de62"
      },
      "outputs": [
        {
          "output_type": "stream",
          "name": "stdout",
          "text": [
            "Rating                   1    2     3     4      5  Total_Reviews  \\\n",
            "Branch                                                              \n",
            "Disneyland_California  450  685  1552  3713  11802          18202   \n",
            "Disneyland_HongKong    152  307  1297  3053   4338           9147   \n",
            "Disneyland_Paris       736  937  1933  3320   5768          12694   \n",
            "\n",
            "Rating                 CSAT_Percentage  \n",
            "Branch                                  \n",
            "Disneyland_California            85.24  \n",
            "Disneyland_HongKong              80.80  \n",
            "Disneyland_Paris                 71.59  \n"
          ]
        }
      ],
      "source": [
        "# CSAT Score\n",
        "# Hitung jumlah masing-masing rating per cabang\n",
        "rating_distribution = data.groupby(['Branch', 'Rating']).size().unstack(fill_value=0)\n",
        "\n",
        "# Tambahkan total review per cabang\n",
        "rating_distribution['Total_Reviews'] = rating_distribution.sum(axis=1)\n",
        "\n",
        "# Tambahkan CSAT Score: rating 4 dan 5\n",
        "rating_distribution['CSAT_Percentage'] = ((rating_distribution[4] + rating_distribution[5]) /\n",
        "                                           rating_distribution['Total_Reviews']) * 100\n",
        "\n",
        "# Tampilkan hasil\n",
        "print(rating_distribution)"
      ]
    },
    {
      "cell_type": "markdown",
      "metadata": {
        "id": "JIILkWU2TBEy"
      },
      "source": [
        "Measure the satisfaction score for the following attributes:\n",
        "\n",
        "- customer service\n",
        "- features\n",
        "- value for money"
      ]
    },
    {
      "cell_type": "code",
      "execution_count": null,
      "metadata": {
        "id": "VDseU9Y2Uj5B"
      },
      "outputs": [],
      "source": [
        "# Satisfaction Score for Attributes\n"
      ]
    },
    {
      "cell_type": "markdown",
      "metadata": {
        "id": "SqZMFs24M03k"
      },
      "source": [
        "### CES Score\n",
        "\n",
        "Measure CES with the following formula\n",
        "\n",
        "\n",
        "$$\n",
        "CES = \\frac{\\Sigma\\ total\\ effort\\ score}{number\\ of\\ responded\\ customer \\times \\max\\ rating}\n",
        "$$"
      ]
    },
    {
      "cell_type": "code",
      "execution_count": null,
      "metadata": {
        "colab": {
          "base_uri": "https://localhost:8080/"
        },
        "id": "6gLvVDVENE17",
        "outputId": "93ebf19c-94d4-420c-f32f-1eff39b5944c"
      },
      "outputs": [
        {
          "name": "stdout",
          "output_type": "stream",
          "text": [
            "CES Scores and Categories by Disneyland Branch:\n",
            "                       CES Score CES Category\n",
            "Branch                                       \n",
            "Disneyland_California      88.11    Excellent\n",
            "Disneyland_HongKong        84.08    Excellent\n",
            "Disneyland_Paris           79.20         Good\n"
          ]
        },
        {
          "name": "stderr",
          "output_type": "stream",
          "text": [
            "<ipython-input-27-a6612341600f>:13: DeprecationWarning: DataFrameGroupBy.apply operated on the grouping columns. This behavior is deprecated, and in a future version of pandas the grouping columns will be excluded from the operation. Either pass `include_groups=False` to exclude the groupings or explicitly select the grouping columns after groupby to silence this warning.\n",
            "  branch_ces_scores = responded_customers_df.groupby('Branch').apply(calculate_ces_for_branch)\n"
          ]
        }
      ],
      "source": [
        "# CES Score\n",
        "# Tentukan rating maksimum (misalnya rating berkisar antara 1 hingga 5)\n",
        "max_rating = 5\n",
        "\n",
        "# Fungsi untuk menghitung CES per cabang\n",
        "def calculate_ces_for_branch(df):\n",
        "    total_effort_score = df['Rating'].sum()  # Jumlah rating untuk cabang ini\n",
        "    number_of_responded_customers = df['Rating'].count()  # Jumlah pelanggan yang merespon\n",
        "    ces_score = (total_effort_score / (number_of_responded_customers * max_rating)) * 100  # Hitung CES\n",
        "    return ces_score\n",
        "\n",
        "# Kelompokkan berdasarkan cabang dan hitung CES untuk setiap cabang\n",
        "branch_ces_scores = responded_customers_df.groupby('Branch').apply(calculate_ces_for_branch)\n",
        "\n",
        "# Fungsi untuk mengklasifikasikan CES\n",
        "def classify_ces(ces_score):\n",
        "    if ces_score >= 80:\n",
        "        return \"Excellent\"\n",
        "    elif ces_score >= 60:\n",
        "        return \"Good\"\n",
        "    else:\n",
        "        return \"Poor\"\n",
        "\n",
        "# Terapkan klasifikasi CES ke setiap cabang\n",
        "branch_ces_categories = branch_ces_scores.apply(classify_ces)\n",
        "\n",
        "# Gabungkan hasil CES dengan kategori ke dalam DataFrame\n",
        "ces_comparison = pd.DataFrame({\n",
        "    'CES Score': branch_ces_scores,\n",
        "    'CES Category': branch_ces_categories\n",
        "})\n",
        "\n",
        "# Tampilkan perbandingan CES antar cabang\n",
        "print(\"CES Scores and Categories by Disneyland Branch:\")\n",
        "print(ces_comparison)\n"
      ]
    },
    {
      "cell_type": "code",
      "source": [
        "# List kata kunci\n",
        "customer_service_keywords = ['staff', 'help', 'friendly', 'service', 'professional']\n",
        "features_keywords = ['rides', 'attractions', 'parades', 'fireworks', 'character']\n",
        "value_keywords = ['expensive', 'cheap', 'worth', 'money']\n",
        "\n",
        "# Ubah teks ke lowercase\n",
        "data['Review_Text'] = data['Review_Text'].astype(str).str.lower()\n",
        "\n",
        "# Buat fungsi bantu\n",
        "def contains_keyword(text, keywords):\n",
        "    return any(keyword in text for keyword in keywords)\n",
        "\n",
        "# Tambahkan kolom indikator untuk masing-masing kategori\n",
        "data['Customer_Service'] = data['Review_Text'].apply(lambda x: contains_keyword(x, customer_service_keywords))\n",
        "data['Features'] = data['Review_Text'].apply(lambda x: contains_keyword(x, features_keywords))\n",
        "data['Value'] = data['Review_Text'].apply(lambda x: contains_keyword(x, value_keywords))\n",
        "\n",
        "# Hitung persentase per branch\n",
        "result = data.groupby('Branch').agg(\n",
        "    Total_Reviews=('Review_Text', 'count'),\n",
        "    Customer_Service_Count=('Customer_Service', 'sum'),\n",
        "    Features_Count=('Features', 'sum'),\n",
        "    Value_Count=('Value', 'sum')\n",
        ")\n",
        "\n",
        "# Hitung persentase\n",
        "result['Customer_Service (%)'] = (result['Customer_Service_Count'] / result['Total_Reviews']) * 100\n",
        "result['Features (%)'] = (result['Features_Count'] / result['Total_Reviews']) * 100\n",
        "result['Value for Money (%)'] = (result['Value_Count'] / result['Total_Reviews']) * 100\n",
        "\n",
        "# Pilih hanya kolom persen\n",
        "final_result = result[['Customer_Service (%)', 'Features (%)', 'Value for Money (%)']].round(2)\n",
        "\n",
        "# Tampilkan hasil\n",
        "print(final_result)"
      ],
      "metadata": {
        "colab": {
          "base_uri": "https://localhost:8080/"
        },
        "id": "94V41JC__cWe",
        "outputId": "1f445791-df3e-441d-ee78-5023a0e842d7"
      },
      "execution_count": null,
      "outputs": [
        {
          "output_type": "stream",
          "name": "stdout",
          "text": [
            "                       Customer_Service (%)  Features (%)  Value for Money (%)\n",
            "Branch                                                                        \n",
            "Disneyland_California                 21.78         57.02                24.40\n",
            "Disneyland_HongKong                   17.33         65.35                26.90\n",
            "Disneyland_Paris                      33.57         73.14                39.82\n"
          ]
        }
      ]
    },
    {
      "cell_type": "markdown",
      "metadata": {
        "id": "TfeJ_6ObmdS3"
      },
      "source": [
        "### NPS Score\n",
        "\n",
        "To calculate the NPS score, first we must convert the **would_you_recommend** column into proper NPS Category based on the rating value:\n",
        "\n",
        "* Promoter: Rating 9-10\n",
        "* Passive: Rating 7-8\n",
        "* Detractor: Rating < 7"
      ]
    },
    {
      "cell_type": "code",
      "execution_count": null,
      "metadata": {
        "id": "m_7VwpRiwrH6"
      },
      "outputs": [],
      "source": [
        "# Category NPS\n"
      ]
    },
    {
      "cell_type": "markdown",
      "metadata": {
        "id": "LqsnFMysmrDF"
      },
      "source": [
        "\n",
        "Calculate the NPS Score with the following formula\n",
        "\n",
        "$$\n",
        "NPS = \\frac{Promoter - Detractor}{Total\\ Survey\\ Responded}\n",
        "$$"
      ]
    },
    {
      "cell_type": "code",
      "execution_count": null,
      "metadata": {
        "colab": {
          "base_uri": "https://localhost:8080/"
        },
        "id": "GXcgu1jpxw_c",
        "outputId": "fa707a50-67ef-41ee-e852-d3f77e307138"
      },
      "outputs": [
        {
          "name": "stdout",
          "output_type": "stream",
          "text": [
            "NPS Scores by Disneyland Branch:\n",
            "Branch\n",
            "Disneyland_California   78.60\n",
            "Disneyland_HongKong     75.25\n",
            "Disneyland_Paris        57.25\n",
            "dtype: float64\n"
          ]
        },
        {
          "name": "stderr",
          "output_type": "stream",
          "text": [
            "<ipython-input-33-5ee639411243>:35: DeprecationWarning: DataFrameGroupBy.apply operated on the grouping columns. This behavior is deprecated, and in a future version of pandas the grouping columns will be excluded from the operation. Either pass `include_groups=False` to exclude the groupings or explicitly select the grouping columns after groupby to silence this warning.\n",
            "  branch_nps_scores = responded_customers_df.groupby('Branch').apply(calculate_nps_for_branch)\n"
          ]
        }
      ],
      "source": [
        "# NPS Score\n",
        "# Tentukan rating untuk kategori Promoters, Passives, dan Detractors\n",
        "def calculate_nps_category(Rating):\n",
        "    if Rating >= 4:  # Promoters\n",
        "        return 'Promoter'\n",
        "    elif Rating == 3:  # Passives\n",
        "        return 'Passive'\n",
        "    else:  # Detractors\n",
        "        return 'Detractor'\n",
        "\n",
        "# Terapkan fungsi untuk menghitung kategori NPS ke kolom baru 'NPS_Category'\n",
        "responded_customers_df['NPS_Category'] = responded_customers_df['Rating'].apply(calculate_nps_category)\n",
        "\n",
        "# Hitung jumlah Promoters, Passives, dan Detractors\n",
        "nps_counts = responded_customers_df['NPS_Category'].value_counts()\n",
        "\n",
        "# Hitung persentase Promoters dan Detractors\n",
        "total_responses = len(responded_customers_df)\n",
        "promoters_percentage = (nps_counts.get('Promoter', 0) / total_responses) * 100\n",
        "detractors_percentage = (nps_counts.get('Detractor', 0) / total_responses) * 100\n",
        "\n",
        "# Hitung NPS\n",
        "nps_score = promoters_percentage - detractors_percentage\n",
        "\n",
        "# Fungsi untuk menghitung NPS per cabang\n",
        "def calculate_nps_for_branch(df):\n",
        "    nps_counts = df['NPS_Category'].value_counts()\n",
        "    total_responses = len(df)\n",
        "    promoters_percentage = (nps_counts.get('Promoter', 0) / total_responses) * 100\n",
        "    detractors_percentage = (nps_counts.get('Detractor', 0) / total_responses) * 100\n",
        "    nps_score = promoters_percentage - detractors_percentage\n",
        "    return nps_score\n",
        "\n",
        "# Kelompokkan berdasarkan cabang dan hitung NPS untuk setiap cabang\n",
        "branch_nps_scores = responded_customers_df.groupby('Branch').apply(calculate_nps_for_branch)\n",
        "\n",
        "# Tampilkan NPS per cabang\n",
        "print(\"NPS Scores by Disneyland Branch:\")\n",
        "print(branch_nps_scores)"
      ]
    },
    {
      "cell_type": "markdown",
      "metadata": {
        "id": "DnrnprG-bZv9"
      },
      "source": [
        "NPS score can be ranging from -100 (when all customers are detractor) to 100 (when all customers are promoter).\n",
        "\n",
        "NPS Score can be classified into categories based on the following threshold:\n",
        "\n",
        "- \\>= 70: Excellent\n",
        "- 50-69: Very Good\n",
        "- 30-49: Good\n",
        "- 0-29: Average\n",
        "- \\< 0: Poor"
      ]
    },
    {
      "cell_type": "markdown",
      "metadata": {
        "id": "A358JFml0PxG"
      },
      "source": [
        "## Sentiment Analysis\n",
        "\n",
        "Create a new dataframe with no blank overall_text."
      ]
    },
    {
      "cell_type": "code",
      "execution_count": null,
      "metadata": {
        "colab": {
          "background_save": true
        },
        "id": "16O516Us0O8K",
        "outputId": "0729acad-2a69-4944-9300-ceeee2f3ca8c"
      },
      "outputs": [
        {
          "name": "stdout",
          "output_type": "stream",
          "text": [
            "       Review_ID  Rating Year_Month     Reviewer_Location  \\\n",
            "0      670772142       4 2019-04-01             Australia   \n",
            "1      670682799       4 2019-05-01           Philippines   \n",
            "2      670623270       4 2019-04-01  United Arab Emirates   \n",
            "3      670607911       4 2019-04-01             Australia   \n",
            "4      670607296       4 2019-04-01        United Kingdom   \n",
            "...          ...     ...        ...                   ...   \n",
            "42651    1765031       5        NaT        United Kingdom   \n",
            "42652    1659553       5        NaT                Canada   \n",
            "42653    1645894       5        NaT          South Africa   \n",
            "42654    1618637       4        NaT         United States   \n",
            "42655    1536786       4        NaT        United Kingdom   \n",
            "\n",
            "                                             Review_Text               Branch  \\\n",
            "0      If you've ever been to Disneyland anywhere you...  Disneyland_HongKong   \n",
            "1      Its been a while since d last time we visit HK...  Disneyland_HongKong   \n",
            "2      Thanks God it wasn   t too hot or too humid wh...  Disneyland_HongKong   \n",
            "3      HK Disneyland is a great compact park. Unfortu...  Disneyland_HongKong   \n",
            "4      the location is not in the city, took around 1...  Disneyland_HongKong   \n",
            "...                                                  ...                  ...   \n",
            "42651  i went to disneyland paris in july 03 and thou...     Disneyland_Paris   \n",
            "42652  2 adults and 1 child of 11 visited Disneyland ...     Disneyland_Paris   \n",
            "42653  My eleven year old daughter and myself went to...     Disneyland_Paris   \n",
            "42654  This hotel, part of the Disneyland Paris compl...     Disneyland_Paris   \n",
            "42655  I went to the Disneyparis resort, in 1996, wit...     Disneyland_Paris   \n",
            "\n",
            "      NPS_Category  \n",
            "0         Promoter  \n",
            "1         Promoter  \n",
            "2         Promoter  \n",
            "3         Promoter  \n",
            "4         Promoter  \n",
            "...            ...  \n",
            "42651     Promoter  \n",
            "42652     Promoter  \n",
            "42653     Promoter  \n",
            "42654     Promoter  \n",
            "42655     Promoter  \n",
            "\n",
            "[42656 rows x 7 columns]\n"
          ]
        }
      ],
      "source": [
        "# Create new dataframe\n",
        "# Asumsi bahwa 'responded_customers_df' adalah DataFrame yang berisi data respon pelanggan\n",
        "\n",
        "# Membuat DataFrame baru yang hanya berisi baris dimana 'Review_Text' tidak kosong (bukan null)\n",
        "non_blank_reviews_df = responded_customers_df[responded_customers_df['Review_Text'].notnull()]\n",
        "\n",
        "# Jika Anda ingin menghapus baris yang memiliki teks kosong ('') atau hanya spasi\n",
        "non_blank_reviews_df = non_blank_reviews_df[non_blank_reviews_df['Review_Text'].str.strip() != '']\n",
        "\n",
        "# Tampilkan DataFrame baru yang hanya berisi review yang tidak kosong\n",
        "print(non_blank_reviews_df)"
      ]
    },
    {
      "cell_type": "markdown",
      "metadata": {
        "id": "hO_m9gr32BiD"
      },
      "source": [
        "### Text Cleansing\n",
        "\n",
        "In order to get more accurate sentiment, several text cleansing need to be done. However, in most of recent sentiment analysis models and algorithm, the only text cleansing needed are as follows:\n",
        "\n",
        "* Clean double whitespace\n",
        "* Clean URL/website\n",
        "* Clean username (mostly in social media or digital text)"
      ]
    },
    {
      "cell_type": "code",
      "execution_count": null,
      "metadata": {
        "id": "gwZwCYT22Y68"
      },
      "outputs": [],
      "source": [
        "import re\n",
        "\n",
        "def cleansing_text(x):\n",
        "  # clean double whitespace\n",
        "  out_text = ' '.join(x.split())\n",
        "\n",
        "  # clean url\n",
        "  out_text = re.sub(r\"http\\S+|www\\S+|https\\S+\", 'http', out_text)\n",
        "\n",
        "  # clean username\n",
        "  out_text = re.sub(r\"@\\S+\", '@user', out_text)\n",
        "\n",
        "  return(out_text)\n",
        "\n",
        "cleansing_text(\" Doesn't  dissapoint. The car       was great. It was the best car rental experiences I've had! Salute to @jone who recommend https:/rental.com\")"
      ]
    },
    {
      "cell_type": "code",
      "execution_count": null,
      "metadata": {
        "colab": {
          "background_save": true
        },
        "id": "pR5rusE11cJk",
        "outputId": "a659b41a-6fb6-4281-a1a9-29869fedaa75"
      },
      "outputs": [
        {
          "name": "stdout",
          "output_type": "stream",
          "text": [
            "                                         Review_Text  \\\n",
            "0  If you've ever been to Disneyland anywhere you...   \n",
            "1  Its been a while since d last time we visit HK...   \n",
            "2  Thanks God it wasn   t too hot or too humid wh...   \n",
            "3  HK Disneyland is a great compact park. Unfortu...   \n",
            "4  the location is not in the city, took around 1...   \n",
            "\n",
            "                                 Cleaned_Review_Text  \n",
            "0  If you've ever been to Disneyland anywhere you...  \n",
            "1  Its been a while since d last time we visit HK...  \n",
            "2  Thanks God it wasn t too hot or too humid when...  \n",
            "3  HK Disneyland is a great compact park. Unfortu...  \n",
            "4  the location is not in the city, took around 1...  \n"
          ]
        }
      ],
      "source": [
        "# apply cleansing to review\n"
      ]
    },
    {
      "cell_type": "markdown",
      "metadata": {
        "id": "_oIgoqbp8gBL"
      },
      "source": [
        "### Sentiment Analysis\n",
        "\n",
        "Create a sentiment categories using algorithm of your own choice."
      ]
    },
    {
      "cell_type": "code",
      "execution_count": null,
      "metadata": {
        "id": "3OrsqgPR8ju9"
      },
      "outputs": [],
      "source": [
        "# Sentiment Algorithm\n"
      ]
    },
    {
      "cell_type": "markdown",
      "metadata": {
        "id": "XGfkO0398K9_"
      },
      "source": [
        "Check the number of data by sentiment."
      ]
    },
    {
      "cell_type": "code",
      "execution_count": null,
      "metadata": {
        "id": "xlQhVTwzo8qn"
      },
      "outputs": [],
      "source": [
        "# Number of Sentiment\n"
      ]
    },
    {
      "cell_type": "markdown",
      "metadata": {
        "id": "iMt3PixaCbTo"
      },
      "source": [
        "Sentimen Analysis using 'Review_Text' group by Branch"
      ]
    },
    {
      "cell_type": "code",
      "execution_count": null,
      "metadata": {
        "colab": {
          "base_uri": "https://localhost:8080/"
        },
        "id": "TQesLTP2-ptK",
        "outputId": "5828e551-0cd9-42e8-b10e-7ed23aa2fe6e"
      },
      "outputs": [
        {
          "name": "stdout",
          "output_type": "stream",
          "text": [
            "Sentiment counts by Disneyland Branch:\n",
            "                       Customer_Service_Positive  Customer_Service_Negative  \\\n",
            "Branch                                                                        \n",
            "Disneyland_California                       3965                        242   \n",
            "Disneyland_HongKong                         1566                        102   \n",
            "Disneyland_Paris                            4096                        584   \n",
            "\n",
            "                       Customer_Service_Neutral  Features_Positive  \\\n",
            "Branch                                                               \n",
            "Disneyland_California                         7               8842   \n",
            "Disneyland_HongKong                           2               4815   \n",
            "Disneyland_Paris                              4               7706   \n",
            "\n",
            "                       Features_Negative  Features_Neutral  \\\n",
            "Branch                                                       \n",
            "Disneyland_California                659                27   \n",
            "Disneyland_HongKong                  349                14   \n",
            "Disneyland_Paris                     945                14   \n",
            "\n",
            "                       Value_for_Money_Positive  Value_for_Money_Negative  \\\n",
            "Branch                                                                      \n",
            "Disneyland_California                      3732                       373   \n",
            "Disneyland_HongKong                        2186                       223   \n",
            "Disneyland_Paris                           4281                       537   \n",
            "\n",
            "                       Value_for_Money_Neutral  \n",
            "Branch                                          \n",
            "Disneyland_California                       11  \n",
            "Disneyland_HongKong                          6  \n",
            "Disneyland_Paris                             5  \n"
          ]
        }
      ],
      "source": [
        "from textblob import TextBlob\n",
        "import pandas as pd\n",
        "\n",
        "# Assuming 'responded_customers_df' is the DataFrame of customers who have responded to the survey\n",
        "\n",
        "# Define keyword lists for each attribute\n",
        "customer_service_keywords = ['staff', 'help', 'friendly', 'service', 'assistance']\n",
        "features_keywords = ['rides', 'attractions']\n",
        "value_for_money_keywords = ['expensive', 'cheap', 'worth']\n",
        "\n",
        "# Function to calculate sentiment polarity\n",
        "def get_sentiment(text):\n",
        "    blob = TextBlob(text)\n",
        "    return blob.sentiment.polarity\n",
        "\n",
        "# Function to check if a review contains relevant keywords and analyze sentiment\n",
        "def analyze_sentiment_based_on_keywords(text, keywords):\n",
        "    # Convert text to lowercase for case-insensitive matching\n",
        "    text = text.lower()\n",
        "\n",
        "    # Check if any of the keywords are in the review text\n",
        "    if any(keyword in text for keyword in keywords):\n",
        "        sentiment_score = get_sentiment(text)\n",
        "        sentiment = 'Positive' if sentiment_score > 0 else ('Negative' if sentiment_score < 0 else 'Neutral')\n",
        "        return sentiment, sentiment_score\n",
        "    else:\n",
        "        return 'Not Relevant', 0\n",
        "\n",
        "# Apply the function to the review text for each attribute\n",
        "responded_customers_df['Customer_Service_Sentiment'], responded_customers_df['Customer_Service_Sentiment_Score'] = zip(\n",
        "    *data['Review_Text'].apply(lambda x: analyze_sentiment_based_on_keywords(x, customer_service_keywords))\n",
        ")\n",
        "\n",
        "responded_customers_df['Features_Sentiment'], responded_customers_df['Features_Sentiment_Score'] = zip(\n",
        "    *responded_customers_df['Review_Text'].apply(lambda x: analyze_sentiment_based_on_keywords(x, features_keywords))\n",
        ")\n",
        "\n",
        "responded_customers_df['Value_for_Money_Sentiment'], responded_customers_df['Value_for_Money_Sentiment_Score'] = zip(\n",
        "    *responded_customers_df['Review_Text'].apply(lambda x: analyze_sentiment_based_on_keywords(x, value_for_money_keywords))\n",
        ")\n",
        "\n",
        "# Group by Disneyland Branch and calculate sentiment counts for each branch\n",
        "branch_sentiment_counts = responded_customers_df.groupby('Branch').agg(\n",
        "    Customer_Service_Positive=('Customer_Service_Sentiment', lambda x: (x == 'Positive').sum()),\n",
        "    Customer_Service_Negative=('Customer_Service_Sentiment', lambda x: (x == 'Negative').sum()),\n",
        "    Customer_Service_Neutral=('Customer_Service_Sentiment', lambda x: (x == 'Neutral').sum()),\n",
        "\n",
        "    Features_Positive=('Features_Sentiment', lambda x: (x == 'Positive').sum()),\n",
        "    Features_Negative=('Features_Sentiment', lambda x: (x == 'Negative').sum()),\n",
        "    Features_Neutral=('Features_Sentiment', lambda x: (x == 'Neutral').sum()),\n",
        "\n",
        "    Value_for_Money_Positive=('Value_for_Money_Sentiment', lambda x: (x == 'Positive').sum()),\n",
        "    Value_for_Money_Negative=('Value_for_Money_Sentiment', lambda x: (x == 'Negative').sum()),\n",
        "    Value_for_Money_Neutral=('Value_for_Money_Sentiment', lambda x: (x == 'Neutral').sum())\n",
        ")\n",
        "\n",
        "# Output the sentiment counts by Disneyland branch\n",
        "print(\"Sentiment counts by Disneyland Branch:\")\n",
        "print(branch_sentiment_counts)\n"
      ]
    },
    {
      "cell_type": "markdown",
      "metadata": {
        "id": "q1_JUY3R-2g_"
      },
      "source": [
        "## Finalize Data for Reporting\n",
        "\n",
        "Save the review data with NPS category and sentiment information to new csv for the dashboard."
      ]
    },
    {
      "cell_type": "code",
      "execution_count": null,
      "metadata": {
        "id": "e3RZ-nrf-1mx"
      },
      "outputs": [],
      "source": [
        "# Save Data\n"
      ]
    }
  ],
  "metadata": {
    "accelerator": "GPU",
    "colab": {
      "gpuType": "T4",
      "provenance": []
    },
    "kernelspec": {
      "display_name": "Python 3",
      "name": "python3"
    },
    "language_info": {
      "name": "python"
    }
  },
  "nbformat": 4,
  "nbformat_minor": 0
}